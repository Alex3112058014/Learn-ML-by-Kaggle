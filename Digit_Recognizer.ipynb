{
 "cells": [
  {
   "cell_type": "code",
   "execution_count": 1,
   "metadata": {},
   "outputs": [
    {
     "name": "stderr",
     "output_type": "stream",
     "text": [
      "C:\\Users\\Administrator\\Anaconda3\\lib\\site-packages\\h5py\\__init__.py:36: FutureWarning: Conversion of the second argument of issubdtype from `float` to `np.floating` is deprecated. In future, it will be treated as `np.float64 == np.dtype(float).type`.\n",
      "  from ._conv import register_converters as _register_converters\n",
      "Using TensorFlow backend.\n"
     ]
    }
   ],
   "source": [
    "import pandas as pd\n",
    "import seaborn as sns\n",
    "import matplotlib.pyplot as plt\n",
    "import numpy as np\n",
    "from keras.models import Sequential\n",
    "from keras.layers import Dense, Dropout, Activation,Flatten,MaxPool2D,Conv2D\n",
    "from keras.optimizers import SGD, Adam, RMSprop\n",
    "from keras.utils.np_utils import to_categorical\n",
    "from keras.utils.vis_utils import plot_model\n",
    "from sklearn.model_selection import train_test_split\n",
    "from keras.callbacks import ReduceLROnPlateau\n",
    "from keras.preprocessing.image import ImageDataGenerator\n",
    "from sklearn.metrics import confusion_matrix\n",
    "from sklearn.ensemble import VotingClassifier\n",
    "import itertools"
   ]
  },
  {
   "cell_type": "code",
   "execution_count": 10,
   "metadata": {},
   "outputs": [],
   "source": [
    "originPath='C:\\\\Users\\\\Administrator\\\\Desktop\\\\Kaggle\\\\Digit Recognizer\\\\input\\\\'\n",
    "train_data = pd.read_csv(originPath+'train.csv')\n",
    "test_data = pd.read_csv(originPath+'test.csv')"
   ]
  },
  {
   "cell_type": "code",
   "execution_count": 11,
   "metadata": {},
   "outputs": [
    {
     "name": "stdout",
     "output_type": "stream",
     "text": [
      "<class 'pandas.core.frame.DataFrame'>\n",
      "RangeIndex: 42000 entries, 0 to 41999\n",
      "Columns: 785 entries, label to pixel783\n",
      "dtypes: int64(785)\n",
      "memory usage: 251.5 MB\n",
      "_____________________________________________________\n",
      "<class 'pandas.core.frame.DataFrame'>\n",
      "RangeIndex: 28000 entries, 0 to 27999\n",
      "Columns: 784 entries, pixel0 to pixel783\n",
      "dtypes: int64(784)\n",
      "memory usage: 167.5 MB\n",
      "_____________________________________________________\n"
     ]
    }
   ],
   "source": [
    "'''查看训练集和测试集的简明摘要'''\n",
    "train_data.info()\n",
    "print('_____________________________________________________')\n",
    "test_data.info()\n",
    "print('_____________________________________________________')"
   ]
  },
  {
   "cell_type": "code",
   "execution_count": 12,
   "metadata": {},
   "outputs": [
    {
     "name": "stdout",
     "output_type": "stream",
     "text": [
      "count       785\n",
      "unique        1\n",
      "top       False\n",
      "freq        785\n",
      "dtype: object\n",
      "_____________________________________________________\n",
      "count       784\n",
      "unique        1\n",
      "top       False\n",
      "freq        784\n",
      "dtype: object\n",
      "_____________________________________________________\n"
     ]
    }
   ],
   "source": [
    "'''查看是否存在缺失值（若存在缺失值，需要对缺失值进行处理）'''\n",
    "# isnull()判断是否有缺失值；\n",
    "# any()返回是否有任何元素在请求轴上为真（会将DataFrame转为Series）,若axis=0则以columns为单位，若axis=1则以index为单位,axis默认为0；\n",
    "# describe()对数据进行描述性统计（对象属性会返回count计数和，unique不重复的值的数量，top最常见的值的value，freq最常见的值的频率）\n",
    "print(train_data.isnull().any().describe())\n",
    "print('_____________________________________________________')\n",
    "print(test_data.isnull().any().describe())\n",
    "print('_____________________________________________________')"
   ]
  },
  {
   "cell_type": "code",
   "execution_count": 13,
   "metadata": {},
   "outputs": [],
   "source": [
    "batch_size = 256 # 在计算力允许的情况下，batch_size越大越好\n",
    "nb_classes = 10\n",
    "nb_epoch = 30"
   ]
  },
  {
   "cell_type": "code",
   "execution_count": 14,
   "metadata": {},
   "outputs": [
    {
     "name": "stdout",
     "output_type": "stream",
     "text": [
      "(42000, 28, 28, 1)\n",
      "(28000, 28, 28, 1)\n",
      "Train Sample: 42000\n",
      "Test Sample: 28000\n"
     ]
    }
   ],
   "source": [
    "'''数据预处理'''\n",
    "X_train=train_data.drop(columns=['label'])\n",
    "Y_train=train_data.label\n",
    "del train_data\n",
    "# 改变维度：第一个参数是图片数量，后三个参数是每个图片的维度\n",
    "X_train = X_train.values.reshape(-1,28,28,1)\n",
    "test_data = test_data.values.reshape(-1,28,28,1)\n",
    "print(X_train.shape)\n",
    "print(test_data.shape)\n",
    "print(\"Train Sample:\",X_train.shape[0])\n",
    "print(\"Test Sample:\",test_data.shape[0])"
   ]
  },
  {
   "cell_type": "code",
   "execution_count": 15,
   "metadata": {},
   "outputs": [
    {
     "data": {
      "image/png": "[encoded data removed]",
      "text/plain": [
       "<matplotlib.figure.Figure at 0xe5517b8>"
      ]
     },
     "metadata": {},
     "output_type": "display_data"
    }
   ],
   "source": [
    "# 归一化：将数据进行归一化到0-1 因为图像数据最大是255\n",
    "X_train=X_train/255.0\n",
    "test_data=test_data/255.0\n",
    "# 将类别向量(从0到nb_classes的整数向量)映射为二值类别矩阵\n",
    "Y_train = to_categorical(Y_train, num_classes = nb_classes)\n",
    "X_train,X_val,Y_train,Y_val=train_test_split(X_train,Y_train,test_size=0.1)\n",
    "plt.imshow(X_train[0][:,:,0], cmap=\"Greys\")\n",
    "plt.show()\n"
   ]
  },
  {
   "cell_type": "code",
   "execution_count": 18,
   "metadata": {},
   "outputs": [
    {
     "ename": "ImportError",
     "evalue": "Failed to import `pydot`. Please install `pydot`. For example with `pip install pydot`.",
     "output_type": "error",
     "traceback": [
      "\u001b[1;31m---------------------------------------------------------------------------\u001b[0m",
      "\u001b[1;31mImportError\u001b[0m                               Traceback (most recent call last)",
      "\u001b[1;32m<ipython-input-18-8c3c6523ae77>\u001b[0m in \u001b[0;36m<module>\u001b[1;34m()\u001b[0m\n\u001b[0;32m     18\u001b[0m \u001b[1;34m'''显示模型信息并保存'''\u001b[0m\u001b[1;33m\u001b[0m\u001b[0m\n\u001b[0;32m     19\u001b[0m \u001b[1;31m# print(model.summary())\u001b[0m\u001b[1;33m\u001b[0m\u001b[1;33m\u001b[0m\u001b[0m\n\u001b[1;32m---> 20\u001b[1;33m \u001b[0mplot_model\u001b[0m\u001b[1;33m(\u001b[0m\u001b[0mmodel\u001b[0m\u001b[1;33m,\u001b[0m \u001b[0mto_file\u001b[0m\u001b[1;33m=\u001b[0m\u001b[1;34m'Model.png'\u001b[0m\u001b[1;33m)\u001b[0m\u001b[1;33m\u001b[0m\u001b[0m\n\u001b[0m",
      "\u001b[1;32m~\\Anaconda3\\lib\\site-packages\\keras\\utils\\vis_utils.py\u001b[0m in \u001b[0;36mplot_model\u001b[1;34m(model, to_file, show_shapes, show_layer_names, rankdir)\u001b[0m\n\u001b[0;32m    132\u001b[0m             \u001b[1;34m'LR'\u001b[0m \u001b[0mcreates\u001b[0m \u001b[0ma\u001b[0m \u001b[0mhorizontal\u001b[0m \u001b[0mplot\u001b[0m\u001b[1;33m.\u001b[0m\u001b[1;33m\u001b[0m\u001b[0m\n\u001b[0;32m    133\u001b[0m     \"\"\"\n\u001b[1;32m--> 134\u001b[1;33m     \u001b[0mdot\u001b[0m \u001b[1;33m=\u001b[0m \u001b[0mmodel_to_dot\u001b[0m\u001b[1;33m(\u001b[0m\u001b[0mmodel\u001b[0m\u001b[1;33m,\u001b[0m \u001b[0mshow_shapes\u001b[0m\u001b[1;33m,\u001b[0m \u001b[0mshow_layer_names\u001b[0m\u001b[1;33m,\u001b[0m \u001b[0mrankdir\u001b[0m\u001b[1;33m)\u001b[0m\u001b[1;33m\u001b[0m\u001b[0m\n\u001b[0m\u001b[0;32m    135\u001b[0m     \u001b[0m_\u001b[0m\u001b[1;33m,\u001b[0m \u001b[0mextension\u001b[0m \u001b[1;33m=\u001b[0m \u001b[0mos\u001b[0m\u001b[1;33m.\u001b[0m\u001b[0mpath\u001b[0m\u001b[1;33m.\u001b[0m\u001b[0msplitext\u001b[0m\u001b[1;33m(\u001b[0m\u001b[0mto_file\u001b[0m\u001b[1;33m)\u001b[0m\u001b[1;33m\u001b[0m\u001b[0m\n\u001b[0;32m    136\u001b[0m     \u001b[1;32mif\u001b[0m \u001b[1;32mnot\u001b[0m \u001b[0mextension\u001b[0m\u001b[1;33m:\u001b[0m\u001b[1;33m\u001b[0m\u001b[0m\n",
      "\u001b[1;32m~\\Anaconda3\\lib\\site-packages\\keras\\utils\\vis_utils.py\u001b[0m in \u001b[0;36mmodel_to_dot\u001b[1;34m(model, show_shapes, show_layer_names, rankdir)\u001b[0m\n\u001b[0;32m     53\u001b[0m     \u001b[1;32mfrom\u001b[0m \u001b[1;33m.\u001b[0m\u001b[1;33m.\u001b[0m\u001b[0mmodels\u001b[0m \u001b[1;32mimport\u001b[0m \u001b[0mSequential\u001b[0m\u001b[1;33m\u001b[0m\u001b[0m\n\u001b[0;32m     54\u001b[0m \u001b[1;33m\u001b[0m\u001b[0m\n\u001b[1;32m---> 55\u001b[1;33m     \u001b[0m_check_pydot\u001b[0m\u001b[1;33m(\u001b[0m\u001b[1;33m)\u001b[0m\u001b[1;33m\u001b[0m\u001b[0m\n\u001b[0m\u001b[0;32m     56\u001b[0m     \u001b[0mdot\u001b[0m \u001b[1;33m=\u001b[0m \u001b[0mpydot\u001b[0m\u001b[1;33m.\u001b[0m\u001b[0mDot\u001b[0m\u001b[1;33m(\u001b[0m\u001b[1;33m)\u001b[0m\u001b[1;33m\u001b[0m\u001b[0m\n\u001b[0;32m     57\u001b[0m     \u001b[0mdot\u001b[0m\u001b[1;33m.\u001b[0m\u001b[0mset\u001b[0m\u001b[1;33m(\u001b[0m\u001b[1;34m'rankdir'\u001b[0m\u001b[1;33m,\u001b[0m \u001b[0mrankdir\u001b[0m\u001b[1;33m)\u001b[0m\u001b[1;33m\u001b[0m\u001b[0m\n",
      "\u001b[1;32m~\\Anaconda3\\lib\\site-packages\\keras\\utils\\vis_utils.py\u001b[0m in \u001b[0;36m_check_pydot\u001b[1;34m()\u001b[0m\n\u001b[0;32m     18\u001b[0m     \u001b[1;32mif\u001b[0m \u001b[0mpydot\u001b[0m \u001b[1;32mis\u001b[0m \u001b[1;32mNone\u001b[0m\u001b[1;33m:\u001b[0m\u001b[1;33m\u001b[0m\u001b[0m\n\u001b[0;32m     19\u001b[0m         raise ImportError(\n\u001b[1;32m---> 20\u001b[1;33m             \u001b[1;34m'Failed to import `pydot`. '\u001b[0m\u001b[1;33m\u001b[0m\u001b[0m\n\u001b[0m\u001b[0;32m     21\u001b[0m             \u001b[1;34m'Please install `pydot`. '\u001b[0m\u001b[1;33m\u001b[0m\u001b[0m\n\u001b[0;32m     22\u001b[0m             'For example with `pip install pydot`.')\n",
      "\u001b[1;31mImportError\u001b[0m: Failed to import `pydot`. Please install `pydot`. For example with `pip install pydot`."
     ]
    }
   ],
   "source": [
    "'''建立模型'''\n",
    "model = Sequential()\n",
    "# filters：卷积核的数目（即输出的维度）\n",
    "# kernel_size：卷积核的宽度和长度。如为单个整数，则表示在各个空间维度的相同长度。\n",
    "model.add(Conv2D(filters = 32, kernel_size = (5,5),activation ='relu', input_shape = (28,28,1)))\n",
    "model.add(Conv2D(filters = 32, kernel_size = (5,5),activation ='relu'))\n",
    "model.add(MaxPool2D(pool_size=(2,2)))\n",
    "model.add(Dropout(0.25))\n",
    "model.add(Conv2D(filters = 64, kernel_size = (3,3),activation ='relu'))\n",
    "model.add(Conv2D(filters = 64, kernel_size = (3,3),activation ='relu'))\n",
    "model.add(MaxPool2D(pool_size=(2,2), strides=(2,2)))\n",
    "model.add(Dropout(0.25))\n",
    "model.add(Flatten())\n",
    "model.add(Dense(256, activation = \"relu\"))\n",
    "model.add(Dropout(0.5))\n",
    "model.add(Dense(10, activation = \"softmax\"))\n",
    "\n",
    "'''显示模型信息并保存'''\n",
    "# print(model.summary())\n",
    "#plot_model(model, to_file='Model.png')"
   ]
  },
  {
   "cell_type": "code",
   "execution_count": 19,
   "metadata": {},
   "outputs": [],
   "source": [
    "'''数据扩增'''\n",
    "# 用以生成一个batch的图像数据，支持实时数据提升\n",
    "datagen = ImageDataGenerator(\n",
    "        featurewise_center=False,  # set input mean to 0 over the dataset\n",
    "        samplewise_center=False,  # set each sample mean to 0\n",
    "        featurewise_std_normalization=False,  # divide inputs by std of the dataset\n",
    "        samplewise_std_normalization=False,  # divide each input by its std\n",
    "        zca_whitening=False,  # apply ZCA whitening\n",
    "        rotation_range=10,  # randomly rotate images in the range (degrees, 0 to 180)\n",
    "        zoom_range = 0.1, # Randomly zoom image\n",
    "        width_shift_range=0.1,  # randomly shift images horizontally (fraction of total width)\n",
    "        height_shift_range=0.1,  # randomly shift images vertically (fraction of total height)\n",
    "        horizontal_flip=False,  # randomly flip images\n",
    "        vertical_flip=False)  # randomly flip images\n",
    "\n",
    "# 计算依赖于数据的变换所需要的统计信息(均值方差等),\n",
    "# 只有使用featurewise_center，featurewise_std_normalization或zca_whitening时需要此函数。\n",
    "# datagen.fit(X_train)"
   ]
  },
  {
   "cell_type": "code",
   "execution_count": 20,
   "metadata": {},
   "outputs": [],
   "source": [
    "'''学习率的设置'''\n",
    "# 当评价指标monitor不在提升时，减少学习率\n",
    "learning_rate_reduction = ReduceLROnPlateau(monitor='val_acc',\n",
    "                                            patience=3,\n",
    "                                            verbose=1,\n",
    "                                            factor=0.5,\n",
    "                                            min_lr=0.00001)"
   ]
  },
  {
   "cell_type": "code",
   "execution_count": 21,
   "metadata": {},
   "outputs": [
    {
     "name": "stdout",
     "output_type": "stream",
     "text": [
      "Epoch 1/30\n",
      " - 291s - loss: 0.8747 - acc: 0.7129 - val_loss: 0.1249 - val_acc: 0.9607\n",
      "Epoch 2/30\n",
      " - 262s - loss: 0.3016 - acc: 0.9083 - val_loss: 0.0695 - val_acc: 0.9795\n",
      "Epoch 3/30\n",
      " - 258s - loss: 0.1905 - acc: 0.9423 - val_loss: 0.0579 - val_acc: 0.9826\n",
      "Epoch 4/30\n",
      " - 291s - loss: 0.1454 - acc: 0.9563 - val_loss: 0.0498 - val_acc: 0.9862\n",
      "Epoch 5/30\n",
      " - 296s - loss: 0.1231 - acc: 0.9632 - val_loss: 0.0485 - val_acc: 0.9862\n",
      "Epoch 6/30\n",
      " - 389s - loss: 0.1051 - acc: 0.9685 - val_loss: 0.0418 - val_acc: 0.9860\n",
      "Epoch 7/30\n",
      " - 283s - loss: 0.0961 - acc: 0.9719 - val_loss: 0.0316 - val_acc: 0.9902\n",
      "Epoch 8/30\n",
      " - 260s - loss: 0.0871 - acc: 0.9739 - val_loss: 0.0301 - val_acc: 0.9914\n",
      "Epoch 9/30\n",
      " - 259s - loss: 0.0818 - acc: 0.9751 - val_loss: 0.0406 - val_acc: 0.9876\n",
      "Epoch 10/30\n",
      " - 305s - loss: 0.0761 - acc: 0.9772 - val_loss: 0.0317 - val_acc: 0.9912\n",
      "Epoch 11/30\n",
      " - 281s - loss: 0.0727 - acc: 0.9783 - val_loss: 0.0258 - val_acc: 0.9907\n",
      "\n",
      "Epoch 00011: ReduceLROnPlateau reducing learning rate to 0.0005000000237487257.\n",
      "Epoch 12/30\n",
      " - 280s - loss: 0.0584 - acc: 0.9835 - val_loss: 0.0192 - val_acc: 0.9940\n",
      "Epoch 13/30\n",
      " - 298s - loss: 0.0542 - acc: 0.9840 - val_loss: 0.0210 - val_acc: 0.9945\n",
      "Epoch 14/30\n",
      " - 280s - loss: 0.0529 - acc: 0.9843 - val_loss: 0.0270 - val_acc: 0.9931\n",
      "Epoch 15/30\n",
      " - 297s - loss: 0.0507 - acc: 0.9851 - val_loss: 0.0270 - val_acc: 0.9933\n",
      "Epoch 16/30\n",
      " - 255s - loss: 0.0503 - acc: 0.9851 - val_loss: 0.0202 - val_acc: 0.9936\n",
      "\n",
      "Epoch 00016: ReduceLROnPlateau reducing learning rate to 0.0002500000118743628.\n",
      "Epoch 17/30\n",
      " - 253s - loss: 0.0423 - acc: 0.9874 - val_loss: 0.0226 - val_acc: 0.9938\n",
      "Epoch 18/30\n",
      " - 253s - loss: 0.0442 - acc: 0.9870 - val_loss: 0.0178 - val_acc: 0.9948\n",
      "Epoch 19/30\n",
      " - 253s - loss: 0.0414 - acc: 0.9884 - val_loss: 0.0170 - val_acc: 0.9955\n",
      "Epoch 20/30\n",
      " - 253s - loss: 0.0396 - acc: 0.9885 - val_loss: 0.0173 - val_acc: 0.9945\n",
      "Epoch 21/30\n",
      " - 252s - loss: 0.0361 - acc: 0.9889 - val_loss: 0.0157 - val_acc: 0.9952\n",
      "Epoch 22/30\n",
      " - 252s - loss: 0.0399 - acc: 0.9880 - val_loss: 0.0165 - val_acc: 0.9957\n",
      "Epoch 23/30\n",
      " - 253s - loss: 0.0380 - acc: 0.9884 - val_loss: 0.0180 - val_acc: 0.9960\n",
      "Epoch 24/30\n",
      " - 253s - loss: 0.0389 - acc: 0.9884 - val_loss: 0.0166 - val_acc: 0.9952\n",
      "Epoch 25/30\n",
      " - 252s - loss: 0.0381 - acc: 0.9884 - val_loss: 0.0137 - val_acc: 0.9969\n",
      "Epoch 26/30\n",
      " - 253s - loss: 0.0370 - acc: 0.9891 - val_loss: 0.0146 - val_acc: 0.9960\n",
      "Epoch 27/30\n",
      " - 253s - loss: 0.0376 - acc: 0.9890 - val_loss: 0.0176 - val_acc: 0.9948\n",
      "Epoch 28/30\n",
      " - 252s - loss: 0.0386 - acc: 0.9883 - val_loss: 0.0164 - val_acc: 0.9962\n",
      "\n",
      "Epoch 00028: ReduceLROnPlateau reducing learning rate to 0.0001250000059371814.\n",
      "Epoch 29/30\n",
      " - 253s - loss: 0.0347 - acc: 0.9900 - val_loss: 0.0152 - val_acc: 0.9962\n",
      "Epoch 30/30\n",
      " - 253s - loss: 0.0343 - acc: 0.9897 - val_loss: 0.0168 - val_acc: 0.9960\n"
     ]
    }
   ],
   "source": [
    "'''编译和训练模型'''\n",
    "optimizer=RMSprop(lr=0.001, rho=0.9, epsilon=1e-08, decay=0.0)\n",
    "# 使用多类的对数损失categorical_crossentropy\n",
    "model.compile(loss='categorical_crossentropy',\n",
    "              optimizer=optimizer,\n",
    "              metrics=['accuracy'])\n",
    "\n",
    "# history=model.fit(X_train,Y_train,\n",
    "#           batch_size=batch_size,\n",
    "#           epochs=nb_epoch,\n",
    "#           verbose=2,\n",
    "#           validation_data=(X_val,Y_val))\n",
    "\n",
    "\n",
    "# ImageDataGenerator需要和fir_generator配合，才能实时进行数据扩增\n",
    "# 当生成器返回steps_per_epoch次数据时计一个epoch结束，执行下一个epoch\n",
    "history = model.fit_generator(datagen.flow(X_train,Y_train, batch_size=batch_size),\n",
    "                              epochs =nb_epoch, validation_data = (X_val,Y_val),\n",
    "                              verbose = 2, steps_per_epoch=X_train.shape[0] // batch_size+1,\n",
    "                              callbacks=[learning_rate_reduction])\n"
   ]
  },
  {
   "cell_type": "code",
   "execution_count": 22,
   "metadata": {},
   "outputs": [
    {
     "name": "stdout",
     "output_type": "stream",
     "text": [
      "Val loss: 0.01680805557435157\n",
      "Val accuracy: 0.9959523809523809\n"
     ]
    }
   ],
   "source": [
    "'''评估模型'''\n",
    "score = model.evaluate(X_val, Y_val, verbose=0)\n",
    "print('Val loss:', score[0])\n",
    "print('Val accuracy:', score[1])"
   ]
  },
  {
   "cell_type": "code",
   "execution_count": 23,
   "metadata": {},
   "outputs": [
    {
     "data": {
      "image/png": "[encoded data removed]",
      "text/plain": [
       "<matplotlib.figure.Figure at 0x11470518>"
      ]
     },
     "metadata": {},
     "output_type": "display_data"
    }
   ],
   "source": [
    "'''绘制学习曲线'''\n",
    "fig, ax = plt.subplots(2,1)\n",
    "ax[0].plot(history.history['loss'], color='b', label=\"Training loss\")\n",
    "ax[0].plot(history.history['val_loss'], color='r', label=\"validation loss\",axes =ax[0])\n",
    "ax[0].legend(loc='best', shadow=True)\n",
    "ax[1].plot(history.history['acc'], color='b', label=\"Training accuracy\")\n",
    "ax[1].plot(history.history['val_acc'], color='r',label=\"Validation accuracy\")\n",
    "ax[1].legend(loc='best', shadow=True)\n",
    "plt.show()"
   ]
  },
  {
   "cell_type": "code",
   "execution_count": 24,
   "metadata": {},
   "outputs": [
    {
     "name": "stdout",
     "output_type": "stream",
     "text": [
      "Begin to predict for testing data ...\n"
     ]
    }
   ],
   "source": [
    "'''预测测试集'''\n",
    "print('Begin to predict for testing data ...')\n",
    "results = model.predict(test_data)\n",
    "results = np.argmax(results,axis = 1)\n",
    "results = pd.Series(results,name=\"Label\")\n",
    "submission = pd.concat([pd.Series(range(1,28001),name = \"ImageId\"),results],axis = 1)\n",
    "submission.to_csv(originPath+\"submit.csv\",index=False)"
   ]
  },
  {
   "cell_type": "code",
   "execution_count": null,
   "metadata": {},
   "outputs": [],
   "source": [
    "model.save('model.h5')"
   ]
  },
  {
   "cell_type": "code",
   "execution_count": null,
   "metadata": {},
   "outputs": [],
   "source": [
    "optimizer = RMSprop(lr=0.001, rho=0.9, epsilon=1e-08, decay=0.0) # 使用多类的对数损失categorical_crossentropy \n",
    "model.compile(loss='categorical_crossentropy', \n",
    "              optimizer=optimizer, \n",
    "              metrics=['accuracy']) \n",
    "history = model.fit(X_train,Y_train, \n",
    "                    batch_size=batch_size, \n",
    "                    epochs=nb_epoch, \n",
    "                    verbose=2, \n",
    "                    validation_data=(X_val,Y_val))\n"
   ]
  },
  {
   "cell_type": "code",
   "execution_count": null,
   "metadata": {},
   "outputs": [],
   "source": [
    "#评估model\n",
    "score = model.evaluate(X_val, Y_val, verbose=0)\n",
    "print('Val loss:', score[0])\n",
    "print('Val accuracy:', score[1])"
   ]
  },
  {
   "cell_type": "code",
   "execution_count": null,
   "metadata": {},
   "outputs": [],
   "source": [
    "#绘制学习曲线\n",
    "fig, ax = plt.subplots(2,1) \n",
    "ax[0].plot(history.history['loss'], color='b', label=\"Training loss\") \n",
    "ax[0].plot(history.history['val_loss'], color='r', label=\"validation loss\",axes =ax[0]) \n",
    "ax[0].legend(loc='best', shadow=True) ax[1].plot(history.history['acc'], color='b', label=\"Training accuracy\") \n",
    "ax[1].plot(history.history['val_acc'], color='r',label=\"Validation accuracy\") \n",
    "ax[1].legend(loc='best', shadow=True) plt.show()"
   ]
  }
 ],
 "metadata": {
  "kernelspec": {
   "display_name": "Python 3",
   "language": "python",
   "name": "python3"
  },
  "language_info": {
   "codemirror_mode": {
    "name": "ipython",
    "version": 3
   },
   "file_extension": ".py",
   "mimetype": "text/x-python",
   "name": "python",
   "nbconvert_exporter": "python",
   "pygments_lexer": "ipython3",
   "version": "3.6.4"
  }
 },
 "nbformat": 4,
 "nbformat_minor": 2
}
